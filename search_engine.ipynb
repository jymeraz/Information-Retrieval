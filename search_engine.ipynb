{
 "cells": [
  {
   "cell_type": "code",
   "execution_count": 12,
   "metadata": {},
   "outputs": [],
   "source": [
    "import requests\n",
    "from bs4 import BeautifulSoup\n",
    "import pandas as pd\n",
    "import os\n",
    "import glob\n",
    "import re\n",
    "import time"
   ]
  },
  {
   "cell_type": "markdown",
   "metadata": {},
   "source": [
    "# Part 1: Retrieve Information"
   ]
  },
  {
   "cell_type": "code",
   "execution_count": 13,
   "metadata": {},
   "outputs": [],
   "source": [
    "# Open the page source of the UTEP CS Faculty Page.\n",
    "# Find all the classes that correspond to the faculty's information.\n",
    "req = requests.get('https://www.utep.edu/cs/people/index.html')\n",
    "soup = BeautifulSoup(req.text,'lxml')\n",
    "divs = soup.findAll('div',{'class':'col-md-6'})"
   ]
  },
  {
   "cell_type": "code",
   "execution_count": 14,
   "metadata": {},
   "outputs": [
    {
     "name": "stdout",
     "output_type": "stream",
     "text": [
      "The directory /Users/boo/Documents/CS4364/professors, already exists\n"
     ]
    }
   ],
   "source": [
    "# Create a new directory in the current directory called 'professors'.\n",
    "# Print a message to the user stating if the directory creation already exists, failed, or was successful.\n",
    "path = os.path.join(os.getcwd(),'professors')\n",
    "try:\n",
    "    os.makedirs(path)\n",
    "except FileExistsError:\n",
    "    print (\"The directory %s, already exists\" % path)\n",
    "except OSError:\n",
    "    print (\"Creation of the directory %s failed\" % path)\n",
    "else:\n",
    "    print (\"Successfully created the directory %s \" % path)"
   ]
  },
  {
   "cell_type": "code",
   "execution_count": 15,
   "metadata": {},
   "outputs": [],
   "source": [
    "# Initialze lists to save the information from each professor.\n",
    "names = []\n",
    "titles = []\n",
    "offices = []\n",
    "emails = []\n",
    "phones = []\n",
    "websiteURLs = []\n",
    "\n",
    "# Iterate through each of the faculty's information.\n",
    "# If the faculty is a professor, add their information to the lists.\n",
    "# If the faculty does not have a certain information (i.e. office), concatenate an empty list in order to keep the list indexes conistent.\n",
    "for div in divs:\n",
    "    # Save the faulcty's title if they are a professor.\n",
    "    # If the faculty is a professor, retrieve the rest of their information.\n",
    "    facultyTitle = div.find('span',{'class':'Title'})\n",
    "    if facultyTitle is not None and \"Professor\" in facultyTitle.text:\n",
    "        titles += [facultyTitle.text]\n",
    "     \n",
    "        # Save the professor's name.\n",
    "        facultyName = div.find('h3',{'class':'name'})\n",
    "        if facultyName is not None:\n",
    "            names += [facultyName.text]\n",
    "        else:\n",
    "            names += []\n",
    "    \n",
    "        # Save the professor's office.\n",
    "        facultyOffice = div.find(\"span\", {\"class\":\"address\"})\n",
    "        if facultyOffice is not None:\n",
    "            offices += [facultyOffice.text]\n",
    "        else:\n",
    "            offices += []\n",
    "        \n",
    "        # Save the professor's email.\n",
    "        facultyEmail = div.find('span',{'class':'email'})\n",
    "        if facultyEmail is not None:\n",
    "            emails += [facultyEmail.text.strip()]\n",
    "        else:\n",
    "            emails += []\n",
    "            \n",
    "        # Save the professor's phone.\n",
    "        facultyPhone = div.find('span',{'class':'phone'})\n",
    "        if facultyPhone is not None:\n",
    "            phones += [facultyPhone.text.split('F')[0]]\n",
    "        else:\n",
    "            phones += []\n",
    "    \n",
    "        # Save the professor's website URL.\n",
    "        facultyWebPage = div.findAll('a')\n",
    "        if len(facultyWebPage) > 0:\n",
    "            facultyURL = facultyWebPage[-1].get('href')\n",
    "            websiteURLs += [facultyURL]\n",
    "        else:\n",
    "            websiteURLs += []\n",
    "    \n",
    "        # Save the contents of the professor's website if they have one.\n",
    "        # Save the contents in a new file named with the professor's email.\n",
    "        if len(facultyURL) > 0:\n",
    "            webPageContent = requests.get(facultyURL)\n",
    "            content = BeautifulSoup(webPageContent.text, 'lxml')\n",
    "\n",
    "            tempPath = os.path.join(path,facultyEmail.text.split('@')[0]+'.txt')\n",
    "            \n",
    "            file = open(tempPath, \"wt\")\n",
    "            file.write(content.text)\n",
    "            file.close()"
   ]
  },
  {
   "cell_type": "code",
   "execution_count": 16,
   "metadata": {},
   "outputs": [],
   "source": [
    "# Create a dataframe for the retrieved information.\n",
    "# Save the dataframe as a pickle file.\n",
    "data = {'Name' : names, 'Title' : titles, 'Office' : offices, 'Email' : emails, 'Phone' : phones, 'Website' : websiteURLs}\n",
    "professors = pd.DataFrame(data=data)\n",
    "professors.to_pickle(\"professors.pkl\")"
   ]
  },
  {
   "cell_type": "markdown",
   "metadata": {},
   "source": [
    "# Part 2: Search Engine"
   ]
  },
  {
   "cell_type": "code",
   "execution_count": 17,
   "metadata": {},
   "outputs": [
    {
     "name": "stdout",
     "output_type": "stream",
     "text": [
      "Enter a search term: Office\n"
     ]
    }
   ],
   "source": [
    "# Ask the user to enter a search term.\n",
    "# Save the first term entered and convert it to lower case.\n",
    "val = input(\"Enter a search term: \") \n",
    "firstTerm = val.split()[0].lower() "
   ]
  },
  {
   "cell_type": "code",
   "execution_count": 18,
   "metadata": {},
   "outputs": [],
   "source": [
    "# Open the files containing the contents of the professor's websites.\n",
    "# Initialize two lists to keep track of the file names and the number of times the term was found.\n",
    "filePaths = glob.glob(os.path.join(path,'*.txt'))\n",
    "fileName = []\n",
    "times = []\n",
    "\n",
    "# Keep track of the time it takes to check through the files.\n",
    "startTime = time.time()\n",
    "\n",
    "# Iterate through the files.\n",
    "# Save the name of the file in a list without '.txt'.\n",
    "# Iterate through the contents of each file and check if each word matches the search term.\n",
    "# If there is a match, increase the count by 1.\n",
    "# After the current file is done being traversed, save the number of times the word was found.\n",
    "for file in filePaths:\n",
    "    count = 0\n",
    "    fileName += [os.path.basename(file).split(\".\")[0]]\n",
    "    currentFile = open(file, \"r\")\n",
    "    for line in currentFile:\n",
    "        # Save the alphabetical words of each line in a list.\n",
    "        # Iterate though the list and compare both lowercase words.\n",
    "        wordList = re.findall(r\"[\\w']+\", line)\n",
    "        for word in wordList:\n",
    "            if word.lower() == firstTerm:\n",
    "                count += 1 \n",
    "    times += [count]\n",
    "    currentFile.close()\n",
    "\n",
    "# Save the elapsed time.\n",
    "elapsedTime = time.time() - startTime\n",
    "\n",
    "# Save the results of the search into a dataframe with the file name and the number of times the term appeared. \n",
    "# Sort the data frame in descending order. \n",
    "data = {'Username' : fileName, 'Times' : times}\n",
    "search = pd.DataFrame(data=data)\n",
    "search = search.sort_values(by='Times',ascending=False)"
   ]
  },
  {
   "cell_type": "code",
   "execution_count": 19,
   "metadata": {},
   "outputs": [
    {
     "name": "stdout",
     "output_type": "stream",
     "text": [
      "6 results found (0.034 sec)\n",
      "\n",
      "Rank #1: The search term \"office\" appears 6 times\n",
      "Luc Longpré, Associate Professor  Undergraduate Program Director\n",
      "Office:  CCSB 3.0420  Email:  longpre@utep.edu  Phone:  (915) 747-6804 \n",
      "Website:  https://www.utep.edu/cs/people/longpre.html\n",
      "\n",
      "Rank #2: The search term \"office\" appears 4 times\n",
      "Eric Freudenthal, Associate Professor\n",
      "Office:  CCSB 3.0424  Email:  efreudenthal@utep.edu  Phone:  (915) 747-6954 \n",
      "Website:  https://www.utep.edu/cs/people/Freudenthal.html\n",
      "\n",
      "Rank #3: The search term \"office\" appears 2 times\n",
      "Salamah I. Salamah, Associate Professor and Chair Director of Software Engineering\n",
      "Office:  CCSB 3.1002  Email:  isalamah@utep.edu  Phone:  (915) 613-3110 \n",
      "Website:  http://www.cs.utep.edu/isalamah/\n",
      "\n",
      "Rank #4: The search term \"office\" appears 1 times\n",
      "Oscar Adrian Mondragon, Clinical Associate Professor Director of M.S Software Engineering\n",
      "Office:  CCSB 3.1020  Email:  oamondragon@utep.edu  Phone:  (915)747-8015\n",
      "Website:  https://expertise.utep.edu/profiles/oamondragon\n",
      "\n",
      "Rank #5: The search term \"office\" appears 1 times\n",
      "Ann Q. Gates, Professor\n",
      "Office:  Administration Building Room 310  Email:  agates@utep.edu  Phone:  (915) 747-7689 \n",
      "Website:  http://www.cs.utep.edu/agates/\n",
      "\n",
      "Rank #6: The search term \"office\" appears 1 times\n",
      "Vladik Kreinovich, Professor\n",
      "Office:  CCSB 3.0404  Email:  vladik@utep.edu  Phone:  (915) 747-6951 \n",
      "Website:  http://www.cs.utep.edu/vladik/\n",
      "\n"
     ]
    }
   ],
   "source": [
    "# Sum the number of files that the term appeared in.\n",
    "# Print the number of results and the elapsed time. \n",
    "numResults = sum([i for i in search['Times']!= 0])\n",
    "print('{} results found ({:.3f} sec)'.format(numResults, elapsedTime))\n",
    "print()\n",
    "\n",
    "# Iterate through the rows in the dataframe that was created when searching for the term.\n",
    "# Only iterate through the number of search results.\n",
    "# Access the row in the 'professors' dataframe of the current professor through the name of the file.\n",
    "# Use this row number to print the rest of the professors information. \n",
    "i = 1\n",
    "for index, searchRow in search.head(n=numResults).iterrows():\n",
    "    value = professors[professors['Email'] == searchRow['Username']+\"@utep.edu\"].index[0]\n",
    "    dfRow = professors.iloc[value]\n",
    "    print('Rank #{}: The search term \"{}\" appears {} times'.format(i, firstTerm,searchRow['Times']))\n",
    "    print(dfRow['Name'], end = \", \")\n",
    "    print(dfRow['Title'])\n",
    "    print('Office: ', dfRow['Office'], end = \"  \")\n",
    "    print('Email: ', dfRow['Email'], end = \"  \")\n",
    "    print('Phone: ', dfRow['Phone'])\n",
    "    print('Website: ', dfRow['Website'])\n",
    "    print()\n",
    "    i += 1"
   ]
  },
  {
   "cell_type": "code",
   "execution_count": null,
   "metadata": {},
   "outputs": [],
   "source": []
  }
 ],
 "metadata": {
  "kernelspec": {
   "display_name": "Python 3",
   "language": "python",
   "name": "python3"
  },
  "language_info": {
   "codemirror_mode": {
    "name": "ipython",
    "version": 3
   },
   "file_extension": ".py",
   "mimetype": "text/x-python",
   "name": "python",
   "nbconvert_exporter": "python",
   "pygments_lexer": "ipython3",
   "version": "3.8.6"
  }
 },
 "nbformat": 4,
 "nbformat_minor": 4
}
